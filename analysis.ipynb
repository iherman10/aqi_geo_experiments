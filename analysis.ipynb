{
 "cells": [
  {
   "cell_type": "markdown",
   "id": "9473165b",
   "metadata": {},
   "source": [
    "# Frame the problem\n",
    "\n",
    "1. __What is the objective?__ To understand/quantify the causal relationship between air quality and health outcomes. It is widely known that degredations in air quality can worsen conditions such as asthma and heart disease. For point-in-time events (e.g. forest fires, storms, etc.) that lead to rapid decreases in air quality, are we able to quantify the causal impact on health outcomes? For example, how many incremental emergency room visits for asthma attacks and heart attacks can be causally linked to the LA fires of early 2025? \n",
    "\n",
    "2. __How will the solution be used?__ This will just be a data analysis for now. In theory, it is possible for \n",
    "\n",
    "3. __What are current solutions?__\n",
    "\n",
    "4. __How should the problem be framed?__\n",
    "\n",
    "5. __How should performance be measured?__\n",
    "\n",
    "6. __What is the minimum performance needed?__\n",
    "\n",
    "7. __What are comparable problems?__\n",
    "\n",
    "8. __Have any assumptions been made? Verify them if possible.__"
   ]
  },
  {
   "cell_type": "markdown",
   "id": "e2d503c6",
   "metadata": {},
   "source": []
  }
 ],
 "metadata": {
  "kernelspec": {
   "display_name": "may_2025_env",
   "language": "python",
   "name": "python3"
  },
  "language_info": {
   "codemirror_mode": {
    "name": "ipython",
    "version": 3
   },
   "file_extension": ".py",
   "mimetype": "text/x-python",
   "name": "python",
   "nbconvert_exporter": "python",
   "pygments_lexer": "ipython3",
   "version": "3.13.2"
  }
 },
 "nbformat": 4,
 "nbformat_minor": 5
}
