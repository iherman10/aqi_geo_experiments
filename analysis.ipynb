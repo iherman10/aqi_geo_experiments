{
 "cells": [
  {
   "cell_type": "markdown",
   "id": "9473165b",
   "metadata": {},
   "source": [
    "# Frame the problem\n",
    "\n",
    "1. __What is the objective?__ To understand/quantify the causal relationship between air quality and health outcomes. It is widely known that degredations in air quality can worsen conditions such as asthma and heart disease. For point-in-time events (e.g. forest fires, storms, etc.) that lead to rapid decreases in air quality, are we able to quantify the causal impact on health outcomes? For example, how many incremental emergency room visits for asthma attacks and heart attacks can be causally linked to the LA fires of early 2025? \n",
    "\n",
    "2. __How will the solution be used?__ This will just be a data analysis for now. In theory, it is possible for cities to leverage findings from an analysis such as this one to better prepare for increased emergency room visits during and after air quality events such as fires or storms. In addition, since the frequency and severity of aforementioned air quality events is increasing due to climate change, an analysis such as this one can be used to forecast the human/health cost of ignoring climate change. \n",
    "\n",
    "3. __What are current solutions?__ Upon a quick search, I uncovered a couple similar analyses/solutions that use machine learning models to predict hospital visit levels using data on environmental factors such as air quality. \n",
    "    - [__Predictive analytics for Emergency Department visits based on local short-term pollution and weather exposure__](https://www.researchgate.net/publication/379227522_Predictive_analytics_for_Emergency_Department_visits_based_on_local_short-term_pollution_and_weather_exposure): This study explores the application of machine learning techniques to forecast daily emergency department (ED) visits and hospitalizations for cardiovascular and respiratory conditions in Brescia, Italy, from 2018 to 2022. The researchers utilized Random Forest and ARIMA models, incorporating local air pollution and weather data. Findings indicated that the Random Forest model provided more accurate predictions, particularly in capturing overall trends, compared to the ARIMA model. The study suggests that integrating environmental data with machine learning can enhance the management of ED resources and patient care during environmental events.\n",
    "\n",
    "    - [__Peak Outpatient and Emergency Department Visit Forecasting for Patients With Chronic Respiratory Diseases Using Machine Learning Methods: Retrospective Cohort Study__](https://medinform.jmir.org/2020/3/e13075/?utm_source=chatgpt.com): This retrospective cohort study investigates the use of machine learning models to predict peak outpatient and emergency department (OED) visits for patients with chronic respiratory diseases. The researchers analyzed data combining air quality and weather indicators, employing models such as adaptive boosting-based neural networks, tree bagging, and random forests. Results demonstrated that the random forest model achieved the highest predictive performance, with an area under the curve (AUC) of 0.809 when utilizing combined air quality and weather data. The study concludes that these machine learning methods can serve as effective tools for anticipating patient surges, thereby aiding in the proactive allocation of medical resources. \n",
    "\n",
    "\n",
    "4. __How should the problem be framed?__ \n",
    "\n",
    "5. __How should performance be measured?__\n",
    "\n",
    "6. __What is the minimum performance needed?__\n",
    "\n",
    "7. __What are comparable problems?__\n",
    "\n",
    "8. __Have any assumptions been made? Verify them if possible.__"
   ]
  },
  {
   "cell_type": "markdown",
   "id": "e2d503c6",
   "metadata": {},
   "source": []
  }
 ],
 "metadata": {
  "kernelspec": {
   "display_name": "may_2025_env",
   "language": "python",
   "name": "python3"
  },
  "language_info": {
   "codemirror_mode": {
    "name": "ipython",
    "version": 3
   },
   "file_extension": ".py",
   "mimetype": "text/x-python",
   "name": "python",
   "nbconvert_exporter": "python",
   "pygments_lexer": "ipython3",
   "version": "3.13.2"
  }
 },
 "nbformat": 4,
 "nbformat_minor": 5
}
