{
 "cells": [
  {
   "cell_type": "markdown",
   "id": "9473165b",
   "metadata": {},
   "source": [
    "# Frame the Problem\n",
    "\n",
    "1. **What is the objective?**  \n",
    "   To understand and quantify the causal relationship between air quality and health outcomes. It is well established that deteriorating air quality can exacerbate conditions such as asthma and heart disease. For point-in-time events (e.g., forest fires, storms) that cause rapid declines in air quality, can we quantify their causal impact on health outcomes? For example, how many incremental emergency room visits for asthma attacks or heart attacks can be causally linked to the LA fires of early 2025?\n",
    "\n",
    "2. **How will the solution be used?**  \n",
    "   For now, this will be a standalone data analysis. In theory, cities could use insights from such an analysis to better prepare for spikes in emergency room visits during and after air quality events like fires or storms. Additionally, as the frequency and severity of these events increase due to climate change, this analysis could help forecast the public health costs of inaction on climate issues.\n",
    "\n",
    "3. **What are current solutions?**  \n",
    "   A brief search reveals a few similar analyses using machine learning to predict hospital visit volumes based on environmental data such as air quality:\n",
    "\n",
    "   - [**Predictive Analytics for Emergency Department Visits Based on Local Short-Term Pollution and Weather Exposure**](https://www.researchgate.net/publication/379227522_Predictive_analytics_for_Emergency_Department_visits_based_on_local_short-term_pollution_and_weather_exposure):  \n",
    "     This study applies machine learning techniques to forecast daily emergency department (ED) visits and hospitalizations for cardiovascular and respiratory conditions in Brescia, Italy (2018–2022). The researchers used Random Forest and ARIMA models, incorporating local air pollution and weather data. They found that the Random Forest model more accurately captured overall trends compared to ARIMA. The findings suggest that integrating environmental data with machine learning can improve ED resource planning and patient care during environmental events.\n",
    "\n",
    "   - [**Peak Outpatient and Emergency Department Visit Forecasting for Patients With Chronic Respiratory Diseases Using Machine Learning Methods: Retrospective Cohort Study**](https://medinform.jmir.org/2020/3/e13075/?utm_source=chatgpt.com):  \n",
    "     This retrospective study evaluates machine learning models for predicting peak outpatient and emergency department (OED) visits among patients with chronic respiratory diseases. The models combined air quality and weather data, using methods such as adaptive boosting-based neural networks, tree bagging, and random forests. The Random Forest model achieved the highest performance, with an AUC of 0.809. The study concludes that such models can effectively anticipate patient surges, aiding in proactive medical resource allocation.\n",
    "\n",
    "4. **How should the problem be framed?**  \n",
    "   This is primarily a regression task, using ML methods to predict continuous outcomes. The causal analysis is an extension of this task. I plan to use a geo experiment or matched-market framework to estimate causal impact via a counterfactual approach. The accuracy of the causal estimates hinges on the quality of the counterfactual.\n",
    "\n",
    "5. **How should performance be measured?**  \n",
    "   In geo experiments, performance is typically evaluated using Minimum Detectable Effect (MDE) and statistical power:\n",
    "\n",
    "   - **MDE:** The smallest effect size the experiment can reliably detect. A smaller MDE implies greater sensitivity, enabling the detection of subtle effects. It is influenced by factors like KPI variability, the number of geographic units, and experiment duration.\n",
    "   - **Power:** The probability of detecting a true effect when one exists. A standard threshold is 80%, meaning there is an 80% chance of identifying a real effect. Higher power reduces the risk of Type II errors.\n",
    "\n",
    "6. **What are comparable problems?**  \n",
    "   As mentioned, geo experiments are commonly used in marketing to estimate the incremental effect of ad spend on downstream outcomes (e.g., sales). While at Pinterest, I frequently analyzed geo experiment data. Several third-party vendors (e.g., Measured, Nielsen) offer geo experiment platforms, and companies like Google and Meta have released open-source tools—`matched_markets` and `GeoLift`, respectively.\n",
    "\n",
    "7. **Have any assumptions been made?**  \n",
    "   Yes. The analysis assumes that data on environmental factors (e.g., air quality, forest fires, storms) and health outcomes (e.g., hospital visits) is readily accessible. It also assumes that the geo experiment framework is applicable to this type of data.\n"
   ]
  },
  {
   "cell_type": "markdown",
   "id": "e2d503c6",
   "metadata": {},
   "source": [
    "# Get the Data\n",
    "\n",
    "**What data is needed?**\n",
    "\n",
    "This analysis requires several types of data:\n",
    "\n",
    "1. **Environmental factors** — including temperature, humidity, air quality, and related metrics.\n",
    "   - I will use the EPA Air Quality System (AQS) to obtain this data. The AQS provides daily summary data on pollutants and meteorological conditions. This data is available through [pre-generated data files](https://aqs.epa.gov/aqsweb/airdata/download_files.html) and a [REST API](https://aqs.epa.gov/aqsweb/documents/data_api.html). I will use the API, as it offers more flexibility and supports reproducible workflows.\n",
    "2. **Health outcomes** — specifically hospital visits, with detailed information on the reasons for each visit.\n",
    "\n",
    "Ideally, the data should be as granular as possible—preferably at the daily level—since geo experiments rely on time series data.\n"
   ]
  },
  {
   "cell_type": "code",
   "execution_count": 2,
   "id": "5f94f882",
   "metadata": {},
   "outputs": [],
   "source": [
    "import requests\n",
    "from dotenv import load_dotenv\n",
    "import os \n",
    "\n",
    "load_dotenv()\n",
    "\n",
    "email = os.getenv(\"EMAIL\")\n",
    "url = \"https://aqs.epa.gov/data/api/signup\"\n",
    "params = {\n",
    "    \"email\": email\n",
    "}\n",
    "\n",
    "# response = requests.get(url, params=params)\n",
    "\n",
    "# if response.status_code == 200:\n",
    "#     print(\"Successfully signed up for the EPA AQS API.\")\n",
    "# else:   \n",
    "#     print(f\"Failed to sign up for the EPA AQS API. Status code: {response.status_code}\")\n",
    "#     print(\"Response:\", response.text)\n",
    "\n",
    "api_key = os.getenv(\"API_KEY\")"
   ]
  },
  {
   "cell_type": "code",
   "execution_count": 3,
   "id": "852c269b",
   "metadata": {},
   "outputs": [
    {
     "name": "stdout",
     "output_type": "stream",
     "text": [
      "Successfully got data.\n"
     ]
    },
    {
     "data": {
      "application/vnd.microsoft.datawrangler.viewer.v0+json": {
       "columns": [
        {
         "name": "index",
         "rawType": "int64",
         "type": "integer"
        },
        {
         "name": "code",
         "rawType": "object",
         "type": "string"
        },
        {
         "name": "value_represented",
         "rawType": "object",
         "type": "string"
        }
       ],
       "conversionMethod": "pd.DataFrame",
       "ref": "34ace4fa-9b9d-42e3-83d6-90e07551d6d3",
       "rows": [
        [
         "0",
         "AIRNOW MAPS",
         "The parameters represented on AirNow maps (88101, 88502, and 44201)"
        ],
        [
         "1",
         "ALL",
         "Select all Parameters Available"
        ],
        [
         "2",
         "AQI POLLUTANTS",
         "Pollutants that have an AQI Defined"
        ],
        [
         "3",
         "CORE_HAPS",
         "Urban Air Toxic Pollutants"
        ],
        [
         "4",
         "CRITERIA",
         "Criteria Pollutants"
        ],
        [
         "5",
         "CSN DART",
         "List of CSN speciation parameters to populate the STI DART tool"
        ],
        [
         "6",
         "FORECAST",
         "Parameters routinely extracted by AirNow (STI)"
        ],
        [
         "7",
         "HAPS",
         "Hazardous Air Pollutants"
        ],
        [
         "8",
         "IMPROVE CARBON",
         "IMPROVE Carbon Parameters"
        ],
        [
         "9",
         "IMPROVE_SPECIATION",
         "PM2.5 Speciated Parameters Measured at IMPROVE sites"
        ],
        [
         "10",
         "MET",
         "Meteorological Parameters"
        ],
        [
         "11",
         "NATTS CORE HAPS",
         "The core list of toxics of interest to the NATTS program."
        ],
        [
         "12",
         "NATTS REQUIRED",
         "Required compounds to be collected in the National Air Toxics Network"
        ],
        [
         "13",
         "PAMS",
         "Photochemical Assessment Monitoring System"
        ],
        [
         "14",
         "PAMS_VOC",
         "Volatile Organic Compound subset of the PAMS Parameters"
        ],
        [
         "15",
         "PM COARSE",
         "PM between 2.5 and 10 micrometers"
        ],
        [
         "16",
         "PM10 SPECIATION",
         "PM10 Speciated Parameters"
        ],
        [
         "17",
         "PM2.5 CONT NONREF",
         "PM2.5 Continuous, Nonreference Methods"
        ],
        [
         "18",
         "PM2.5 MASS/QA",
         "PM2.5 Mass and QA Parameters"
        ],
        [
         "19",
         "SCHOOL AIR TOXICS",
         "School Air Toxics Program Parameters"
        ],
        [
         "20",
         "SPECIATION",
         "PM2.5 Speciated Parameters"
        ],
        [
         "21",
         "SPECIATION CARBON",
         "PM2.5 Speciation Carbon Parameters"
        ],
        [
         "22",
         "SPECIATION CATION/ANION",
         "PM2.5 Speciation Cation/Anion Parameters"
        ],
        [
         "23",
         "SPECIATION METALS",
         "PM2.5 Speciation Metal Parameters"
        ],
        [
         "24",
         "UATMP CARBONYL",
         "Urban Air Toxics Monitoring Program Carbonyls"
        ],
        [
         "25",
         "UATMP VOC",
         "Urban Air Toxics Monitoring Program VOCs"
        ],
        [
         "26",
         "VOC",
         "Volatile organic compounds"
        ]
       ],
       "shape": {
        "columns": 2,
        "rows": 27
       }
      },
      "text/html": [
       "<div>\n",
       "<style scoped>\n",
       "    .dataframe tbody tr th:only-of-type {\n",
       "        vertical-align: middle;\n",
       "    }\n",
       "\n",
       "    .dataframe tbody tr th {\n",
       "        vertical-align: top;\n",
       "    }\n",
       "\n",
       "    .dataframe thead th {\n",
       "        text-align: right;\n",
       "    }\n",
       "</style>\n",
       "<table border=\"1\" class=\"dataframe\">\n",
       "  <thead>\n",
       "    <tr style=\"text-align: right;\">\n",
       "      <th></th>\n",
       "      <th>code</th>\n",
       "      <th>value_represented</th>\n",
       "    </tr>\n",
       "  </thead>\n",
       "  <tbody>\n",
       "    <tr>\n",
       "      <th>0</th>\n",
       "      <td>AIRNOW MAPS</td>\n",
       "      <td>The parameters represented on AirNow maps (881...</td>\n",
       "    </tr>\n",
       "    <tr>\n",
       "      <th>1</th>\n",
       "      <td>ALL</td>\n",
       "      <td>Select all Parameters Available</td>\n",
       "    </tr>\n",
       "    <tr>\n",
       "      <th>2</th>\n",
       "      <td>AQI POLLUTANTS</td>\n",
       "      <td>Pollutants that have an AQI Defined</td>\n",
       "    </tr>\n",
       "    <tr>\n",
       "      <th>3</th>\n",
       "      <td>CORE_HAPS</td>\n",
       "      <td>Urban Air Toxic Pollutants</td>\n",
       "    </tr>\n",
       "    <tr>\n",
       "      <th>4</th>\n",
       "      <td>CRITERIA</td>\n",
       "      <td>Criteria Pollutants</td>\n",
       "    </tr>\n",
       "    <tr>\n",
       "      <th>5</th>\n",
       "      <td>CSN DART</td>\n",
       "      <td>List of CSN speciation parameters to populate ...</td>\n",
       "    </tr>\n",
       "    <tr>\n",
       "      <th>6</th>\n",
       "      <td>FORECAST</td>\n",
       "      <td>Parameters routinely extracted by AirNow (STI)</td>\n",
       "    </tr>\n",
       "    <tr>\n",
       "      <th>7</th>\n",
       "      <td>HAPS</td>\n",
       "      <td>Hazardous Air Pollutants</td>\n",
       "    </tr>\n",
       "    <tr>\n",
       "      <th>8</th>\n",
       "      <td>IMPROVE CARBON</td>\n",
       "      <td>IMPROVE Carbon Parameters</td>\n",
       "    </tr>\n",
       "    <tr>\n",
       "      <th>9</th>\n",
       "      <td>IMPROVE_SPECIATION</td>\n",
       "      <td>PM2.5 Speciated Parameters Measured at IMPROVE...</td>\n",
       "    </tr>\n",
       "    <tr>\n",
       "      <th>10</th>\n",
       "      <td>MET</td>\n",
       "      <td>Meteorological Parameters</td>\n",
       "    </tr>\n",
       "    <tr>\n",
       "      <th>11</th>\n",
       "      <td>NATTS CORE HAPS</td>\n",
       "      <td>The core list of toxics of interest to the NAT...</td>\n",
       "    </tr>\n",
       "    <tr>\n",
       "      <th>12</th>\n",
       "      <td>NATTS REQUIRED</td>\n",
       "      <td>Required compounds to be collected in the Nati...</td>\n",
       "    </tr>\n",
       "    <tr>\n",
       "      <th>13</th>\n",
       "      <td>PAMS</td>\n",
       "      <td>Photochemical Assessment Monitoring System</td>\n",
       "    </tr>\n",
       "    <tr>\n",
       "      <th>14</th>\n",
       "      <td>PAMS_VOC</td>\n",
       "      <td>Volatile Organic Compound subset of the PAMS P...</td>\n",
       "    </tr>\n",
       "    <tr>\n",
       "      <th>15</th>\n",
       "      <td>PM COARSE</td>\n",
       "      <td>PM between 2.5 and 10 micrometers</td>\n",
       "    </tr>\n",
       "    <tr>\n",
       "      <th>16</th>\n",
       "      <td>PM10 SPECIATION</td>\n",
       "      <td>PM10 Speciated Parameters</td>\n",
       "    </tr>\n",
       "    <tr>\n",
       "      <th>17</th>\n",
       "      <td>PM2.5 CONT NONREF</td>\n",
       "      <td>PM2.5 Continuous, Nonreference Methods</td>\n",
       "    </tr>\n",
       "    <tr>\n",
       "      <th>18</th>\n",
       "      <td>PM2.5 MASS/QA</td>\n",
       "      <td>PM2.5 Mass and QA Parameters</td>\n",
       "    </tr>\n",
       "    <tr>\n",
       "      <th>19</th>\n",
       "      <td>SCHOOL AIR TOXICS</td>\n",
       "      <td>School Air Toxics Program Parameters</td>\n",
       "    </tr>\n",
       "    <tr>\n",
       "      <th>20</th>\n",
       "      <td>SPECIATION</td>\n",
       "      <td>PM2.5 Speciated Parameters</td>\n",
       "    </tr>\n",
       "    <tr>\n",
       "      <th>21</th>\n",
       "      <td>SPECIATION CARBON</td>\n",
       "      <td>PM2.5 Speciation Carbon Parameters</td>\n",
       "    </tr>\n",
       "    <tr>\n",
       "      <th>22</th>\n",
       "      <td>SPECIATION CATION/ANION</td>\n",
       "      <td>PM2.5 Speciation Cation/Anion Parameters</td>\n",
       "    </tr>\n",
       "    <tr>\n",
       "      <th>23</th>\n",
       "      <td>SPECIATION METALS</td>\n",
       "      <td>PM2.5 Speciation Metal Parameters</td>\n",
       "    </tr>\n",
       "    <tr>\n",
       "      <th>24</th>\n",
       "      <td>UATMP CARBONYL</td>\n",
       "      <td>Urban Air Toxics Monitoring Program Carbonyls</td>\n",
       "    </tr>\n",
       "    <tr>\n",
       "      <th>25</th>\n",
       "      <td>UATMP VOC</td>\n",
       "      <td>Urban Air Toxics Monitoring Program VOCs</td>\n",
       "    </tr>\n",
       "    <tr>\n",
       "      <th>26</th>\n",
       "      <td>VOC</td>\n",
       "      <td>Volatile organic compounds</td>\n",
       "    </tr>\n",
       "  </tbody>\n",
       "</table>\n",
       "</div>"
      ],
      "text/plain": [
       "                       code                                  value_represented\n",
       "0               AIRNOW MAPS  The parameters represented on AirNow maps (881...\n",
       "1                       ALL                    Select all Parameters Available\n",
       "2            AQI POLLUTANTS                Pollutants that have an AQI Defined\n",
       "3                 CORE_HAPS                         Urban Air Toxic Pollutants\n",
       "4                  CRITERIA                                Criteria Pollutants\n",
       "5                  CSN DART  List of CSN speciation parameters to populate ...\n",
       "6                  FORECAST     Parameters routinely extracted by AirNow (STI)\n",
       "7                      HAPS                           Hazardous Air Pollutants\n",
       "8            IMPROVE CARBON                          IMPROVE Carbon Parameters\n",
       "9        IMPROVE_SPECIATION  PM2.5 Speciated Parameters Measured at IMPROVE...\n",
       "10                      MET                          Meteorological Parameters\n",
       "11          NATTS CORE HAPS  The core list of toxics of interest to the NAT...\n",
       "12           NATTS REQUIRED  Required compounds to be collected in the Nati...\n",
       "13                     PAMS         Photochemical Assessment Monitoring System\n",
       "14                 PAMS_VOC  Volatile Organic Compound subset of the PAMS P...\n",
       "15                PM COARSE                  PM between 2.5 and 10 micrometers\n",
       "16          PM10 SPECIATION                          PM10 Speciated Parameters\n",
       "17        PM2.5 CONT NONREF             PM2.5 Continuous, Nonreference Methods\n",
       "18            PM2.5 MASS/QA                       PM2.5 Mass and QA Parameters\n",
       "19        SCHOOL AIR TOXICS               School Air Toxics Program Parameters\n",
       "20               SPECIATION                         PM2.5 Speciated Parameters\n",
       "21        SPECIATION CARBON                 PM2.5 Speciation Carbon Parameters\n",
       "22  SPECIATION CATION/ANION           PM2.5 Speciation Cation/Anion Parameters\n",
       "23        SPECIATION METALS                  PM2.5 Speciation Metal Parameters\n",
       "24           UATMP CARBONYL      Urban Air Toxics Monitoring Program Carbonyls\n",
       "25                UATMP VOC           Urban Air Toxics Monitoring Program VOCs\n",
       "26                      VOC                         Volatile organic compounds"
      ]
     },
     "execution_count": 3,
     "metadata": {},
     "output_type": "execute_result"
    }
   ],
   "source": [
    "# Parameter classes\n",
    "import pandas as pd\n",
    "\n",
    "url = \"https://aqs.epa.gov/data/api/list/classes\"\n",
    "params = {\n",
    "    \"email\": email, \n",
    "    \"key\": api_key\n",
    "}\n",
    "\n",
    "def get_aqs_data(url, params):\n",
    "    response = requests.get(url, params=params)\n",
    "    if response.status_code == 200:\n",
    "        print(\"Successfully got data.\")\n",
    "        data = response.json()\n",
    "        if data[\"Data\"]:\n",
    "            df = pd.DataFrame(data[\"Data\"])\n",
    "            return df\n",
    "        else:\n",
    "            print(\"No data returned for given parameters.\")\n",
    "    else:\n",
    "        print(f\"Failed to get data. Status code: {response.status_code}\")\n",
    "        print(\"Response:\", response.text)\n",
    "\n",
    "parameter_classes = get_aqs_data(url, params)\n",
    "parameter_classes"
   ]
  },
  {
   "cell_type": "code",
   "execution_count": 4,
   "id": "26d8676c",
   "metadata": {},
   "outputs": [
    {
     "name": "stdout",
     "output_type": "stream",
     "text": [
      "Successfully got data.\n"
     ]
    },
    {
     "data": {
      "application/vnd.microsoft.datawrangler.viewer.v0+json": {
       "columns": [
        {
         "name": "index",
         "rawType": "int64",
         "type": "integer"
        },
        {
         "name": "code",
         "rawType": "object",
         "type": "string"
        },
        {
         "name": "value_represented",
         "rawType": "object",
         "type": "string"
        }
       ],
       "conversionMethod": "pd.DataFrame",
       "ref": "496af903-dd44-4f47-8fe9-133c1f55996e",
       "rows": [
        [
         "0",
         "44201",
         "Ozone"
        ],
        [
         "1",
         "88101",
         "PM2.5 - Local Conditions"
        ],
        [
         "2",
         "88502",
         "Acceptable PM2.5 AQI & Speciation Mass"
        ]
       ],
       "shape": {
        "columns": 2,
        "rows": 3
       }
      },
      "text/html": [
       "<div>\n",
       "<style scoped>\n",
       "    .dataframe tbody tr th:only-of-type {\n",
       "        vertical-align: middle;\n",
       "    }\n",
       "\n",
       "    .dataframe tbody tr th {\n",
       "        vertical-align: top;\n",
       "    }\n",
       "\n",
       "    .dataframe thead th {\n",
       "        text-align: right;\n",
       "    }\n",
       "</style>\n",
       "<table border=\"1\" class=\"dataframe\">\n",
       "  <thead>\n",
       "    <tr style=\"text-align: right;\">\n",
       "      <th></th>\n",
       "      <th>code</th>\n",
       "      <th>value_represented</th>\n",
       "    </tr>\n",
       "  </thead>\n",
       "  <tbody>\n",
       "    <tr>\n",
       "      <th>0</th>\n",
       "      <td>44201</td>\n",
       "      <td>Ozone</td>\n",
       "    </tr>\n",
       "    <tr>\n",
       "      <th>1</th>\n",
       "      <td>88101</td>\n",
       "      <td>PM2.5 - Local Conditions</td>\n",
       "    </tr>\n",
       "    <tr>\n",
       "      <th>2</th>\n",
       "      <td>88502</td>\n",
       "      <td>Acceptable PM2.5 AQI &amp; Speciation Mass</td>\n",
       "    </tr>\n",
       "  </tbody>\n",
       "</table>\n",
       "</div>"
      ],
      "text/plain": [
       "    code                       value_represented\n",
       "0  44201                                   Ozone\n",
       "1  88101                PM2.5 - Local Conditions\n",
       "2  88502  Acceptable PM2.5 AQI & Speciation Mass"
      ]
     },
     "execution_count": 4,
     "metadata": {},
     "output_type": "execute_result"
    }
   ],
   "source": [
    "# Parameters by class \n",
    "\n",
    "url = \"https://aqs.epa.gov/data/api/list/parametersByClass\"\n",
    "params = {\n",
    "    \"email\": email, \n",
    "    \"key\": api_key, \n",
    "    \"pc\": \"AIRNOW MAPS\"\n",
    "}\n",
    "\n",
    "parameters_by_class = get_aqs_data(url, params)\n",
    "parameters_by_class"
   ]
  },
  {
   "cell_type": "code",
   "execution_count": 20,
   "id": "41db657e",
   "metadata": {},
   "outputs": [
    {
     "name": "stdout",
     "output_type": "stream",
     "text": [
      "Successfully got data.\n"
     ]
    },
    {
     "data": {
      "application/vnd.microsoft.datawrangler.viewer.v0+json": {
       "columns": [
        {
         "name": "index",
         "rawType": "int64",
         "type": "integer"
        },
        {
         "name": "code",
         "rawType": "object",
         "type": "string"
        },
        {
         "name": "value_represented",
         "rawType": "object",
         "type": "string"
        }
       ],
       "conversionMethod": "pd.DataFrame",
       "ref": "6bb4d7e7-3e5d-4fab-8bd1-d4366a3e2c8c",
       "rows": [
        [
         "0",
         "10020",
         "Abbeville, LA"
        ],
        [
         "1",
         "10100",
         "Aberdeen, SD"
        ],
        [
         "2",
         "10140",
         "Aberdeen, WA"
        ],
        [
         "3",
         "10180",
         "Abilene, TX"
        ],
        [
         "4",
         "10220",
         "Ada, OK"
        ]
       ],
       "shape": {
        "columns": 2,
        "rows": 5
       }
      },
      "text/html": [
       "<div>\n",
       "<style scoped>\n",
       "    .dataframe tbody tr th:only-of-type {\n",
       "        vertical-align: middle;\n",
       "    }\n",
       "\n",
       "    .dataframe tbody tr th {\n",
       "        vertical-align: top;\n",
       "    }\n",
       "\n",
       "    .dataframe thead th {\n",
       "        text-align: right;\n",
       "    }\n",
       "</style>\n",
       "<table border=\"1\" class=\"dataframe\">\n",
       "  <thead>\n",
       "    <tr style=\"text-align: right;\">\n",
       "      <th></th>\n",
       "      <th>code</th>\n",
       "      <th>value_represented</th>\n",
       "    </tr>\n",
       "  </thead>\n",
       "  <tbody>\n",
       "    <tr>\n",
       "      <th>0</th>\n",
       "      <td>10020</td>\n",
       "      <td>Abbeville, LA</td>\n",
       "    </tr>\n",
       "    <tr>\n",
       "      <th>1</th>\n",
       "      <td>10100</td>\n",
       "      <td>Aberdeen, SD</td>\n",
       "    </tr>\n",
       "    <tr>\n",
       "      <th>2</th>\n",
       "      <td>10140</td>\n",
       "      <td>Aberdeen, WA</td>\n",
       "    </tr>\n",
       "    <tr>\n",
       "      <th>3</th>\n",
       "      <td>10180</td>\n",
       "      <td>Abilene, TX</td>\n",
       "    </tr>\n",
       "    <tr>\n",
       "      <th>4</th>\n",
       "      <td>10220</td>\n",
       "      <td>Ada, OK</td>\n",
       "    </tr>\n",
       "  </tbody>\n",
       "</table>\n",
       "</div>"
      ],
      "text/plain": [
       "    code value_represented\n",
       "0  10020     Abbeville, LA\n",
       "1  10100      Aberdeen, SD\n",
       "2  10140      Aberdeen, WA\n",
       "3  10180       Abilene, TX\n",
       "4  10220           Ada, OK"
      ]
     },
     "execution_count": 20,
     "metadata": {},
     "output_type": "execute_result"
    }
   ],
   "source": [
    "# CBSA \n",
    "\n",
    "url = \"https://aqs.epa.gov/data/api/list/cbsas\"\n",
    "params = {\n",
    "    \"email\": email, \n",
    "    \"key\": api_key, \n",
    "}\n",
    "\n",
    "cbsa = get_aqs_data(url, params)\n",
    "cbsa.head()"
   ]
  },
  {
   "cell_type": "code",
   "execution_count": 11,
   "id": "19637da8",
   "metadata": {},
   "outputs": [
    {
     "name": "stdout",
     "output_type": "stream",
     "text": [
      "Successfully got data.\n",
      "<class 'pandas.core.frame.DataFrame'>\n",
      "RangeIndex: 60335 entries, 0 to 60334\n",
      "Data columns (total 32 columns):\n",
      " #   Column                Non-Null Count  Dtype  \n",
      "---  ------                --------------  -----  \n",
      " 0   state_code            60335 non-null  object \n",
      " 1   county_code           60335 non-null  object \n",
      " 2   site_number           60335 non-null  object \n",
      " 3   parameter_code        60335 non-null  object \n",
      " 4   poc                   60335 non-null  int64  \n",
      " 5   latitude              60335 non-null  float64\n",
      " 6   longitude             60335 non-null  float64\n",
      " 7   datum                 60335 non-null  object \n",
      " 8   parameter             60335 non-null  object \n",
      " 9   sample_duration_code  60335 non-null  object \n",
      " 10  sample_duration       60335 non-null  object \n",
      " 11  pollutant_standard    55084 non-null  object \n",
      " 12  date_local            60335 non-null  object \n",
      " 13  units_of_measure      60335 non-null  object \n",
      " 14  event_type            60335 non-null  object \n",
      " 15  observation_count     60335 non-null  int64  \n",
      " 16  observation_percent   60335 non-null  float64\n",
      " 17  validity_indicator    60335 non-null  object \n",
      " 18  arithmetic_mean       60335 non-null  float64\n",
      " 19  first_max_value       60335 non-null  float64\n",
      " 20  first_max_hour        60335 non-null  int64  \n",
      " 21  aqi                   55084 non-null  float64\n",
      " 22  method_code           60335 non-null  object \n",
      " 23  method                60335 non-null  object \n",
      " 24  local_site_name       60335 non-null  object \n",
      " 25  site_address          60335 non-null  object \n",
      " 26  state                 60335 non-null  object \n",
      " 27  county                60335 non-null  object \n",
      " 28  city                  60335 non-null  object \n",
      " 29  cbsa_code             60335 non-null  object \n",
      " 30  cbsa                  60335 non-null  object \n",
      " 31  date_of_last_change   60335 non-null  object \n",
      "dtypes: float64(6), int64(3), object(23)\n",
      "memory usage: 14.7+ MB\n"
     ]
    }
   ],
   "source": [
    "# Test, get AQI data for a single CBSA \n",
    "# CBSA: New York-Newark-Jersey City, NY-NJ-PA (Code 35620)\n",
    "\n",
    "url = \"https://aqs.epa.gov/data/api/dailyData/byCBSA\"\n",
    "params = {\n",
    "    \"email\": email, \n",
    "    \"key\": api_key, \n",
    "    \"param\": \"88101\", \n",
    "    \"bdate\": \"20230101\", \n",
    "    \"edate\": \"20231231\", \n",
    "    \"cbsa\": \"35620\"\n",
    "}\n",
    "\n",
    "ny_daily_pm25 = get_aqs_data(url, params)\n",
    "ny_daily_pm25.info()"
   ]
  },
  {
   "cell_type": "code",
   "execution_count": 28,
   "id": "bbffb501",
   "metadata": {},
   "outputs": [
    {
     "data": {
      "application/vnd.microsoft.datawrangler.viewer.v0+json": {
       "columns": [
        {
         "name": "index",
         "rawType": "int64",
         "type": "integer"
        },
        {
         "name": "date_local",
         "rawType": "object",
         "type": "string"
        },
        {
         "name": "arithmetic_mean",
         "rawType": "float64",
         "type": "float"
        }
       ],
       "conversionMethod": "pd.DataFrame",
       "ref": "5493b895-df88-49d7-9ff1-d4281486373a",
       "rows": [
        [
         "0",
         "2023-01-01",
         "8.595833"
        ],
        [
         "1",
         "2023-01-02",
         "12.3"
        ],
        [
         "2",
         "2023-01-03",
         "23.404167"
        ],
        [
         "3",
         "2023-01-04",
         "19.245833"
        ],
        [
         "4",
         "2023-01-05",
         "15.945833"
        ],
        [
         "5",
         "2023-01-06",
         "9.058333"
        ],
        [
         "6",
         "2023-01-07",
         "6.3875"
        ],
        [
         "7",
         "2023-01-08",
         "6.25"
        ],
        [
         "8",
         "2023-01-09",
         "11.75"
        ],
        [
         "9",
         "2023-01-10",
         "13.875"
        ],
        [
         "10",
         "2023-01-11",
         "9.654167"
        ],
        [
         "11",
         "2023-01-12",
         "12.1"
        ],
        [
         "12",
         "2023-01-13",
         "11.0125"
        ],
        [
         "13",
         "2023-01-14",
         "4.575"
        ],
        [
         "14",
         "2023-01-15",
         "5.7"
        ],
        [
         "15",
         "2023-01-16",
         "5.320833"
        ],
        [
         "16",
         "2023-01-17",
         "9.5"
        ],
        [
         "17",
         "2023-01-18",
         "11.558333"
        ],
        [
         "18",
         "2023-01-19",
         "7.929167"
        ],
        [
         "19",
         "2023-01-20",
         "5.404348"
        ],
        [
         "20",
         "2023-01-21",
         "4.3"
        ],
        [
         "21",
         "2023-01-22",
         "10.6"
        ],
        [
         "22",
         "2023-01-23",
         "4.920833"
        ],
        [
         "23",
         "2023-01-24",
         "9.8"
        ],
        [
         "24",
         "2023-01-25",
         "9.370833"
        ],
        [
         "25",
         "2023-01-26",
         "5.554167"
        ],
        [
         "26",
         "2023-01-27",
         "8.95"
        ],
        [
         "27",
         "2023-01-28",
         "10.125"
        ],
        [
         "28",
         "2023-01-29",
         "11.725"
        ],
        [
         "29",
         "2023-01-30",
         "16.579167"
        ],
        [
         "30",
         "2023-01-31",
         "8.079167"
        ],
        [
         "31",
         "2023-02-01",
         "8.208333"
        ],
        [
         "32",
         "2023-02-02",
         "13.6125"
        ],
        [
         "33",
         "2023-02-03",
         "8.076923"
        ],
        [
         "34",
         "2023-02-04",
         "4.2875"
        ],
        [
         "35",
         "2023-02-05",
         "11.129167"
        ],
        [
         "36",
         "2023-02-06",
         "16.052632"
        ],
        [
         "37",
         "2023-02-07",
         "11.779167"
        ],
        [
         "38",
         "2023-02-08",
         "17.120833"
        ],
        [
         "39",
         "2023-02-09",
         "19.533333"
        ],
        [
         "40",
         "2023-02-10",
         "9.370833"
        ],
        [
         "41",
         "2023-02-11",
         "5.833333"
        ],
        [
         "42",
         "2023-02-12",
         "15.525"
        ],
        [
         "43",
         "2023-02-13",
         "8.2"
        ],
        [
         "44",
         "2023-02-14",
         "7.154167"
        ],
        [
         "45",
         "2023-02-15",
         "10.795833"
        ],
        [
         "46",
         "2023-02-16",
         "17.620833"
        ],
        [
         "47",
         "2023-02-17",
         "11.2375"
        ],
        [
         "48",
         "2023-02-18",
         "9.430769"
        ],
        [
         "49",
         "2023-02-19",
         "11.716667"
        ]
       ],
       "shape": {
        "columns": 2,
        "rows": 365
       }
      },
      "text/html": [
       "<div>\n",
       "<style scoped>\n",
       "    .dataframe tbody tr th:only-of-type {\n",
       "        vertical-align: middle;\n",
       "    }\n",
       "\n",
       "    .dataframe tbody tr th {\n",
       "        vertical-align: top;\n",
       "    }\n",
       "\n",
       "    .dataframe thead th {\n",
       "        text-align: right;\n",
       "    }\n",
       "</style>\n",
       "<table border=\"1\" class=\"dataframe\">\n",
       "  <thead>\n",
       "    <tr style=\"text-align: right;\">\n",
       "      <th></th>\n",
       "      <th>date_local</th>\n",
       "      <th>arithmetic_mean</th>\n",
       "    </tr>\n",
       "  </thead>\n",
       "  <tbody>\n",
       "    <tr>\n",
       "      <th>0</th>\n",
       "      <td>2023-01-01</td>\n",
       "      <td>8.595833</td>\n",
       "    </tr>\n",
       "    <tr>\n",
       "      <th>1</th>\n",
       "      <td>2023-01-02</td>\n",
       "      <td>12.300000</td>\n",
       "    </tr>\n",
       "    <tr>\n",
       "      <th>2</th>\n",
       "      <td>2023-01-03</td>\n",
       "      <td>23.404167</td>\n",
       "    </tr>\n",
       "    <tr>\n",
       "      <th>3</th>\n",
       "      <td>2023-01-04</td>\n",
       "      <td>19.245833</td>\n",
       "    </tr>\n",
       "    <tr>\n",
       "      <th>4</th>\n",
       "      <td>2023-01-05</td>\n",
       "      <td>15.945833</td>\n",
       "    </tr>\n",
       "    <tr>\n",
       "      <th>...</th>\n",
       "      <td>...</td>\n",
       "      <td>...</td>\n",
       "    </tr>\n",
       "    <tr>\n",
       "      <th>360</th>\n",
       "      <td>2023-12-27</td>\n",
       "      <td>21.545833</td>\n",
       "    </tr>\n",
       "    <tr>\n",
       "      <th>361</th>\n",
       "      <td>2023-12-28</td>\n",
       "      <td>6.095833</td>\n",
       "    </tr>\n",
       "    <tr>\n",
       "      <th>362</th>\n",
       "      <td>2023-12-29</td>\n",
       "      <td>12.200000</td>\n",
       "    </tr>\n",
       "    <tr>\n",
       "      <th>363</th>\n",
       "      <td>2023-12-30</td>\n",
       "      <td>8.587500</td>\n",
       "    </tr>\n",
       "    <tr>\n",
       "      <th>364</th>\n",
       "      <td>2023-12-31</td>\n",
       "      <td>9.070833</td>\n",
       "    </tr>\n",
       "  </tbody>\n",
       "</table>\n",
       "<p>365 rows × 2 columns</p>\n",
       "</div>"
      ],
      "text/plain": [
       "     date_local  arithmetic_mean\n",
       "0    2023-01-01         8.595833\n",
       "1    2023-01-02        12.300000\n",
       "2    2023-01-03        23.404167\n",
       "3    2023-01-04        19.245833\n",
       "4    2023-01-05        15.945833\n",
       "..          ...              ...\n",
       "360  2023-12-27        21.545833\n",
       "361  2023-12-28         6.095833\n",
       "362  2023-12-29        12.200000\n",
       "363  2023-12-30         8.587500\n",
       "364  2023-12-31         9.070833\n",
       "\n",
       "[365 rows x 2 columns]"
      ]
     },
     "execution_count": 28,
     "metadata": {},
     "output_type": "execute_result"
    }
   ],
   "source": [
    "# Explore raw data \n",
    "\n",
    "# NOTES\n",
    "# There are multiple records for each site for each day\n",
    "# Arithmetic mean is the number we care about. For a given parameter, arithmetic mean is the value of the measurement for that day \n",
    "# Arithmetic mean is different than AQI, which is a calculated column given the parameter measurement \n",
    "# AQI for the day, that you might see on AirNow, PurpleAir, etc. is simply the highest/worst AQI score for the day between the two pollutants in consideration (PM2.5 vs. Ozone)\n",
    "# End date has to be same year as begin date when making requests from the API\n",
    "\n",
    "\n",
    "# For NY CBSA data, there are 60335 rows \n",
    "# There are 0 Null values for arithmetic mean, although ~5k Null rows for AQI --> use arithmetic mean \n",
    "# Parameter we care about: \"PM2.5 - Local Conditions\" (code: 88101)\n",
    "# There are 22 sites \n",
    "\n",
    "# Sample sorted data \n",
    "ny_daily_pm25.sort_values(['date_local', 'site_number']).head(1000)\n",
    "\n",
    "# Number of records per site\n",
    "ny_daily_pm25.groupby(['date_local', 'site_number'])['arithmetic_mean'].count().reset_index().sort_values(['date_local', 'site_number'])\n",
    "\n",
    "# Number of sites \n",
    "ny_daily_pm25['site_number'].nunique()\n",
    "\n",
    "# Aggregate so that each day has a single row --> simple arithmetic mean \n",
    "ny_daily_pm25.groupby(['date_local'])['arithmetic_mean'].mean().reset_index().sort_values('date_local', ascending=True)\n",
    "\n",
    "# More aggregation techniques: median \n",
    "ny_daily_pm25.groupby(['date_local'])['arithmetic_mean'].median().reset_index().sort_values('date_local', ascending=True)\n",
    "\n",
    "# More aggregation techniques: max \n",
    "ny_daily_pm25.groupby(['date_local'])['arithmetic_mean'].max().reset_index().sort_values('date_local', ascending=True)\n",
    "\n",
    "\n",
    "\n",
    "\n"
   ]
  },
  {
   "cell_type": "code",
   "execution_count": null,
   "id": "8f167bfd",
   "metadata": {},
   "outputs": [],
   "source": []
  }
 ],
 "metadata": {
  "kernelspec": {
   "display_name": "python312",
   "language": "python",
   "name": "python3"
  },
  "language_info": {
   "codemirror_mode": {
    "name": "ipython",
    "version": 3
   },
   "file_extension": ".py",
   "mimetype": "text/x-python",
   "name": "python",
   "nbconvert_exporter": "python",
   "pygments_lexer": "ipython3",
   "version": "3.12.9"
  }
 },
 "nbformat": 4,
 "nbformat_minor": 5
}
